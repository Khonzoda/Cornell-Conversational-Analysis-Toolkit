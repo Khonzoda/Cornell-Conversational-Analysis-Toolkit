{
 "metadata": {
  "language_info": {
   "codemirror_mode": {
    "name": "ipython",
    "version": 3
   },
   "file_extension": ".py",
   "mimetype": "text/x-python",
   "name": "python",
   "nbconvert_exporter": "python",
   "pygments_lexer": "ipython3",
   "version": "3.7.7-final"
  },
  "orig_nbformat": 2,
  "kernelspec": {
   "name": "convokit-venv",
   "display_name": "convokit-venv"
  }
 },
 "nbformat": 4,
 "nbformat_minor": 2,
 "cells": [
  {
   "source": [
    "# Analyzing the Tennis Corpus with Surprise\n",
    "This demo is based on the [Tie-breaker paper](https://www.cs.cornell.edu/~liye/tennis.html) on gender-bias in sports journalism."
   ],
   "cell_type": "markdown",
   "metadata": {}
  },
  {
   "cell_type": "code",
   "execution_count": 1,
   "metadata": {},
   "outputs": [],
   "source": [
    "import convokit\n",
    "import numpy as np\n",
    "from convokit import Corpus, download, Surprise"
   ]
  },
  {
   "cell_type": "code",
   "execution_count": 2,
   "metadata": {},
   "outputs": [
    {
     "output_type": "stream",
     "name": "stdout",
     "text": [
      "Dataset already exists at C:\\Users\\rgang\\.convokit\\downloads\\tennis-corpus\n"
     ]
    }
   ],
   "source": [
    "corpus = Corpus(filename=download('tennis-corpus'))"
   ]
  },
  {
   "source": [
    "To help with the analysis, let's add a metadata attribute to each utterance that is a reporter question describing the gender of the player the question is posed to."
   ],
   "cell_type": "markdown",
   "metadata": {}
  },
  {
   "cell_type": "code",
   "execution_count": 3,
   "metadata": {},
   "outputs": [
    {
     "output_type": "execute_result",
     "data": {
      "text/plain": [
       "           timestamp                                               text  \\\n",
       "id                                                                        \n",
       "1681_0.q  2008-08-28  I think this is your biggest success right now...   \n",
       "1681_0.a  2008-08-28                                              Yeah.   \n",
       "1681_1.q  2008-08-28  How would you describe it? Is it fantastic for...   \n",
       "1681_1.a  2008-08-28  Yeah, I'm pretty happy, but it was -- I wasn't...   \n",
       "1681_2.q  2008-08-28                    Do you know why he has retired?   \n",
       "...              ...                                                ...   \n",
       "755_9.a   2007-01-16                                          Yeah, no.   \n",
       "755_10.q  2007-01-16                                      It's working?   \n",
       "755_10.a  2007-01-16                                  Yeah.  Feel good.   \n",
       "755_11.q  2007-01-16  So when something's not going right with your ...   \n",
       "755_11.a  2007-01-16  I have my hitting partner.  He helps me very w...   \n",
       "\n",
       "                speaker  reply_to conversation_id meta.is_answer  \\\n",
       "id                                                                 \n",
       "1681_0.q       REPORTER      None        1681_0.q          False   \n",
       "1681_0.a  Kei Nishikori  1681_0.q        1681_0.q           True   \n",
       "1681_1.q       REPORTER      None        1681_1.q          False   \n",
       "1681_1.a  Kei Nishikori  1681_1.q        1681_1.q           True   \n",
       "1681_2.q       REPORTER      None        1681_2.q          False   \n",
       "...                 ...       ...             ...            ...   \n",
       "755_9.a   Kim Clijsters   755_9.q         755_9.q           True   \n",
       "755_10.q       REPORTER      None        755_10.q          False   \n",
       "755_10.a  Kim Clijsters  755_10.q        755_10.q           True   \n",
       "755_11.q       REPORTER      None        755_11.q          False   \n",
       "755_11.a  Kim Clijsters  755_11.q        755_11.q           True   \n",
       "\n",
       "         meta.is_question meta.pair_idx meta.player_gender  \n",
       "id                                                          \n",
       "1681_0.q             True        1681_0                  M  \n",
       "1681_0.a            False        1681_0                NaN  \n",
       "1681_1.q             True        1681_1                  M  \n",
       "1681_1.a            False        1681_1                NaN  \n",
       "1681_2.q             True        1681_2                  M  \n",
       "...                   ...           ...                ...  \n",
       "755_9.a             False         755_9                NaN  \n",
       "755_10.q             True        755_10                  F  \n",
       "755_10.a            False        755_10                NaN  \n",
       "755_11.q             True        755_11                  F  \n",
       "755_11.a            False        755_11                NaN  \n",
       "\n",
       "[163948 rows x 9 columns]"
      ],
      "text/html": "<div>\n<style scoped>\n    .dataframe tbody tr th:only-of-type {\n        vertical-align: middle;\n    }\n\n    .dataframe tbody tr th {\n        vertical-align: top;\n    }\n\n    .dataframe thead th {\n        text-align: right;\n    }\n</style>\n<table border=\"1\" class=\"dataframe\">\n  <thead>\n    <tr style=\"text-align: right;\">\n      <th></th>\n      <th>timestamp</th>\n      <th>text</th>\n      <th>speaker</th>\n      <th>reply_to</th>\n      <th>conversation_id</th>\n      <th>meta.is_answer</th>\n      <th>meta.is_question</th>\n      <th>meta.pair_idx</th>\n      <th>meta.player_gender</th>\n    </tr>\n    <tr>\n      <th>id</th>\n      <th></th>\n      <th></th>\n      <th></th>\n      <th></th>\n      <th></th>\n      <th></th>\n      <th></th>\n      <th></th>\n      <th></th>\n    </tr>\n  </thead>\n  <tbody>\n    <tr>\n      <th>1681_0.q</th>\n      <td>2008-08-28</td>\n      <td>I think this is your biggest success right now...</td>\n      <td>REPORTER</td>\n      <td>None</td>\n      <td>1681_0.q</td>\n      <td>False</td>\n      <td>True</td>\n      <td>1681_0</td>\n      <td>M</td>\n    </tr>\n    <tr>\n      <th>1681_0.a</th>\n      <td>2008-08-28</td>\n      <td>Yeah.</td>\n      <td>Kei Nishikori</td>\n      <td>1681_0.q</td>\n      <td>1681_0.q</td>\n      <td>True</td>\n      <td>False</td>\n      <td>1681_0</td>\n      <td>NaN</td>\n    </tr>\n    <tr>\n      <th>1681_1.q</th>\n      <td>2008-08-28</td>\n      <td>How would you describe it? Is it fantastic for...</td>\n      <td>REPORTER</td>\n      <td>None</td>\n      <td>1681_1.q</td>\n      <td>False</td>\n      <td>True</td>\n      <td>1681_1</td>\n      <td>M</td>\n    </tr>\n    <tr>\n      <th>1681_1.a</th>\n      <td>2008-08-28</td>\n      <td>Yeah, I'm pretty happy, but it was -- I wasn't...</td>\n      <td>Kei Nishikori</td>\n      <td>1681_1.q</td>\n      <td>1681_1.q</td>\n      <td>True</td>\n      <td>False</td>\n      <td>1681_1</td>\n      <td>NaN</td>\n    </tr>\n    <tr>\n      <th>1681_2.q</th>\n      <td>2008-08-28</td>\n      <td>Do you know why he has retired?</td>\n      <td>REPORTER</td>\n      <td>None</td>\n      <td>1681_2.q</td>\n      <td>False</td>\n      <td>True</td>\n      <td>1681_2</td>\n      <td>M</td>\n    </tr>\n    <tr>\n      <th>...</th>\n      <td>...</td>\n      <td>...</td>\n      <td>...</td>\n      <td>...</td>\n      <td>...</td>\n      <td>...</td>\n      <td>...</td>\n      <td>...</td>\n      <td>...</td>\n    </tr>\n    <tr>\n      <th>755_9.a</th>\n      <td>2007-01-16</td>\n      <td>Yeah, no.</td>\n      <td>Kim Clijsters</td>\n      <td>755_9.q</td>\n      <td>755_9.q</td>\n      <td>True</td>\n      <td>False</td>\n      <td>755_9</td>\n      <td>NaN</td>\n    </tr>\n    <tr>\n      <th>755_10.q</th>\n      <td>2007-01-16</td>\n      <td>It's working?</td>\n      <td>REPORTER</td>\n      <td>None</td>\n      <td>755_10.q</td>\n      <td>False</td>\n      <td>True</td>\n      <td>755_10</td>\n      <td>F</td>\n    </tr>\n    <tr>\n      <th>755_10.a</th>\n      <td>2007-01-16</td>\n      <td>Yeah.  Feel good.</td>\n      <td>Kim Clijsters</td>\n      <td>755_10.q</td>\n      <td>755_10.q</td>\n      <td>True</td>\n      <td>False</td>\n      <td>755_10</td>\n      <td>NaN</td>\n    </tr>\n    <tr>\n      <th>755_11.q</th>\n      <td>2007-01-16</td>\n      <td>So when something's not going right with your ...</td>\n      <td>REPORTER</td>\n      <td>None</td>\n      <td>755_11.q</td>\n      <td>False</td>\n      <td>True</td>\n      <td>755_11</td>\n      <td>F</td>\n    </tr>\n    <tr>\n      <th>755_11.a</th>\n      <td>2007-01-16</td>\n      <td>I have my hitting partner.  He helps me very w...</td>\n      <td>Kim Clijsters</td>\n      <td>755_11.q</td>\n      <td>755_11.q</td>\n      <td>True</td>\n      <td>False</td>\n      <td>755_11</td>\n      <td>NaN</td>\n    </tr>\n  </tbody>\n</table>\n<p>163948 rows × 9 columns</p>\n</div>"
     },
     "metadata": {},
     "execution_count": 3
    }
   ],
   "source": [
    "for utt in corpus.iter_utterances(selector=lambda u: u.meta['is_question']):\n",
    "    utt.add_meta('player_gender', utt.get_conversation().get_utterance(utt.id.replace('q', 'a')).get_speaker().meta['gender'])\n",
    "corpus.get_utterances_dataframe()"
   ]
  },
  {
   "source": [
    "## Part 1: How surprising is each interview question compared to the other questions?\n",
    "\n",
    "For this demo, we want to train one model for the entire corpus, so we'll make our `model_key_selector` a function that returns the same key for every utterance in a corpus."
   ],
   "cell_type": "markdown",
   "metadata": {}
  },
  {
   "cell_type": "code",
   "execution_count": 4,
   "metadata": {},
   "outputs": [],
   "source": [
    "surp = Surprise(model_key_selector=lambda utt: 'corpus', target_sample_size=10, context_sample_size=5000)"
   ]
  },
  {
   "source": [
    "Since we just want to look at how surprising questions asked by reporters are, we'll fit the transformer just on utterances that are questions."
   ],
   "cell_type": "markdown",
   "metadata": {}
  },
  {
   "cell_type": "code",
   "execution_count": 5,
   "metadata": {},
   "outputs": [
    {
     "output_type": "execute_result",
     "data": {
      "text/plain": [
       "<convokit.surprise.surprise.Surprise at 0x189bebfc488>"
      ]
     },
     "metadata": {},
     "execution_count": 5
    }
   ],
   "source": [
    "surp.fit(corpus, selector=lambda utt: utt.meta['is_question'])"
   ]
  },
  {
   "source": [
    "To speed up the demo, we'll select a random subset of interview questions to compute surprise scores for."
   ],
   "cell_type": "markdown",
   "metadata": {}
  },
  {
   "source": [
    "import itertools\n",
    "\n",
    "subset_utts = [corpus.get_utterance(utt) for utt in corpus.get_utterances_dataframe()[corpus.get_utterances_dataframe()['meta.is_question']].sample(500).index]\n",
    "subset_corpus = Corpus(utterances=subset_utts)"
   ],
   "cell_type": "code",
   "metadata": {},
   "execution_count": 6,
   "outputs": []
  },
  {
   "source": [
    "Again we want to select only utterances that are questions to compute surprise for."
   ],
   "cell_type": "markdown",
   "metadata": {}
  },
  {
   "cell_type": "code",
   "execution_count": 7,
   "metadata": {},
   "outputs": [
    {
     "output_type": "execute_result",
     "data": {
      "text/plain": [
       "<convokit.model.corpus.Corpus at 0x189a80ec648>"
      ]
     },
     "metadata": {},
     "execution_count": 7
    }
   ],
   "source": [
    "surp.transform(subset_corpus, obj_type='utterance', selector=lambda utt: utt.meta['is_question'])"
   ]
  },
  {
   "cell_type": "code",
   "execution_count": 8,
   "metadata": {},
   "outputs": [
    {
     "output_type": "execute_result",
     "data": {
      "text/plain": [
       "            timestamp                                               text  \\\n",
       "id                                                                         \n",
       "5245_1.q   2013-09-07  Stan said he found you were extremely nervous ...   \n",
       "4341_7.q   2012-08-08  Can you talk about how you were able to not le...   \n",
       "107_3.q    2015-03-17                                               Yes.   \n",
       "6211_3.q   2014-05-25  You obviously have played a lot of SEC team sp...   \n",
       "924_6.q    2007-03-26  You would have been in Mexico, right, Mexico C...   \n",
       "...               ...                                                ...   \n",
       "186_5.q    2015-10-10  Before you came to the China Open, you had to ...   \n",
       "3979_0.q   2012-01-09      What pleased you most about that performance?   \n",
       "2987_10.q  2010-07-01  Was there a point in your career when you real...   \n",
       "4289_1.q   2012-08-23  Can you go over exactly what happened? When di...   \n",
       "3958_0.q   2012-01-13  Exhausting would probably be your overriding f...   \n",
       "\n",
       "            speaker reply_to conversation_id meta.is_answer meta.is_question  \\\n",
       "id                                                                             \n",
       "5245_1.q   REPORTER     None        5245_1.q          False             True   \n",
       "4341_7.q   REPORTER     None        4341_7.q          False             True   \n",
       "107_3.q    REPORTER     None         107_3.q          False             True   \n",
       "6211_3.q   REPORTER     None        6211_3.q          False             True   \n",
       "924_6.q    REPORTER     None         924_6.q          False             True   \n",
       "...             ...      ...             ...            ...              ...   \n",
       "186_5.q    REPORTER     None         186_5.q          False             True   \n",
       "3979_0.q   REPORTER     None        3979_0.q          False             True   \n",
       "2987_10.q  REPORTER     None       2987_10.q          False             True   \n",
       "4289_1.q   REPORTER     None        4289_1.q          False             True   \n",
       "3958_0.q   REPORTER     None        3958_0.q          False             True   \n",
       "\n",
       "          meta.pair_idx meta.player_gender meta.surprise  \n",
       "id                                                        \n",
       "5245_1.q         5245_1                  M       6.54898  \n",
       "4341_7.q         4341_7                  F       5.95094  \n",
       "107_3.q           107_3                  F           NaN  \n",
       "6211_3.q         6211_3                  M       6.40259  \n",
       "924_6.q           924_6                  M           NaN  \n",
       "...                 ...                ...           ...  \n",
       "186_5.q           186_5                  F       6.75991  \n",
       "3979_0.q         3979_0                  F           NaN  \n",
       "2987_10.q       2987_10                  F       6.29503  \n",
       "4289_1.q         4289_1                  F       5.82461  \n",
       "3958_0.q         3958_0                  M        6.8817  \n",
       "\n",
       "[500 rows x 10 columns]"
      ],
      "text/html": "<div>\n<style scoped>\n    .dataframe tbody tr th:only-of-type {\n        vertical-align: middle;\n    }\n\n    .dataframe tbody tr th {\n        vertical-align: top;\n    }\n\n    .dataframe thead th {\n        text-align: right;\n    }\n</style>\n<table border=\"1\" class=\"dataframe\">\n  <thead>\n    <tr style=\"text-align: right;\">\n      <th></th>\n      <th>timestamp</th>\n      <th>text</th>\n      <th>speaker</th>\n      <th>reply_to</th>\n      <th>conversation_id</th>\n      <th>meta.is_answer</th>\n      <th>meta.is_question</th>\n      <th>meta.pair_idx</th>\n      <th>meta.player_gender</th>\n      <th>meta.surprise</th>\n    </tr>\n    <tr>\n      <th>id</th>\n      <th></th>\n      <th></th>\n      <th></th>\n      <th></th>\n      <th></th>\n      <th></th>\n      <th></th>\n      <th></th>\n      <th></th>\n      <th></th>\n    </tr>\n  </thead>\n  <tbody>\n    <tr>\n      <th>5245_1.q</th>\n      <td>2013-09-07</td>\n      <td>Stan said he found you were extremely nervous ...</td>\n      <td>REPORTER</td>\n      <td>None</td>\n      <td>5245_1.q</td>\n      <td>False</td>\n      <td>True</td>\n      <td>5245_1</td>\n      <td>M</td>\n      <td>6.54898</td>\n    </tr>\n    <tr>\n      <th>4341_7.q</th>\n      <td>2012-08-08</td>\n      <td>Can you talk about how you were able to not le...</td>\n      <td>REPORTER</td>\n      <td>None</td>\n      <td>4341_7.q</td>\n      <td>False</td>\n      <td>True</td>\n      <td>4341_7</td>\n      <td>F</td>\n      <td>5.95094</td>\n    </tr>\n    <tr>\n      <th>107_3.q</th>\n      <td>2015-03-17</td>\n      <td>Yes.</td>\n      <td>REPORTER</td>\n      <td>None</td>\n      <td>107_3.q</td>\n      <td>False</td>\n      <td>True</td>\n      <td>107_3</td>\n      <td>F</td>\n      <td>NaN</td>\n    </tr>\n    <tr>\n      <th>6211_3.q</th>\n      <td>2014-05-25</td>\n      <td>You obviously have played a lot of SEC team sp...</td>\n      <td>REPORTER</td>\n      <td>None</td>\n      <td>6211_3.q</td>\n      <td>False</td>\n      <td>True</td>\n      <td>6211_3</td>\n      <td>M</td>\n      <td>6.40259</td>\n    </tr>\n    <tr>\n      <th>924_6.q</th>\n      <td>2007-03-26</td>\n      <td>You would have been in Mexico, right, Mexico C...</td>\n      <td>REPORTER</td>\n      <td>None</td>\n      <td>924_6.q</td>\n      <td>False</td>\n      <td>True</td>\n      <td>924_6</td>\n      <td>M</td>\n      <td>NaN</td>\n    </tr>\n    <tr>\n      <th>...</th>\n      <td>...</td>\n      <td>...</td>\n      <td>...</td>\n      <td>...</td>\n      <td>...</td>\n      <td>...</td>\n      <td>...</td>\n      <td>...</td>\n      <td>...</td>\n      <td>...</td>\n    </tr>\n    <tr>\n      <th>186_5.q</th>\n      <td>2015-10-10</td>\n      <td>Before you came to the China Open, you had to ...</td>\n      <td>REPORTER</td>\n      <td>None</td>\n      <td>186_5.q</td>\n      <td>False</td>\n      <td>True</td>\n      <td>186_5</td>\n      <td>F</td>\n      <td>6.75991</td>\n    </tr>\n    <tr>\n      <th>3979_0.q</th>\n      <td>2012-01-09</td>\n      <td>What pleased you most about that performance?</td>\n      <td>REPORTER</td>\n      <td>None</td>\n      <td>3979_0.q</td>\n      <td>False</td>\n      <td>True</td>\n      <td>3979_0</td>\n      <td>F</td>\n      <td>NaN</td>\n    </tr>\n    <tr>\n      <th>2987_10.q</th>\n      <td>2010-07-01</td>\n      <td>Was there a point in your career when you real...</td>\n      <td>REPORTER</td>\n      <td>None</td>\n      <td>2987_10.q</td>\n      <td>False</td>\n      <td>True</td>\n      <td>2987_10</td>\n      <td>F</td>\n      <td>6.29503</td>\n    </tr>\n    <tr>\n      <th>4289_1.q</th>\n      <td>2012-08-23</td>\n      <td>Can you go over exactly what happened? When di...</td>\n      <td>REPORTER</td>\n      <td>None</td>\n      <td>4289_1.q</td>\n      <td>False</td>\n      <td>True</td>\n      <td>4289_1</td>\n      <td>F</td>\n      <td>5.82461</td>\n    </tr>\n    <tr>\n      <th>3958_0.q</th>\n      <td>2012-01-13</td>\n      <td>Exhausting would probably be your overriding f...</td>\n      <td>REPORTER</td>\n      <td>None</td>\n      <td>3958_0.q</td>\n      <td>False</td>\n      <td>True</td>\n      <td>3958_0</td>\n      <td>M</td>\n      <td>6.8817</td>\n    </tr>\n  </tbody>\n</table>\n<p>500 rows × 10 columns</p>\n</div>"
     },
     "metadata": {},
     "execution_count": 8
    }
   ],
   "source": [
    "utterances = subset_corpus.get_utterances_dataframe(selector=lambda utt: utt.meta['is_question'])\n",
    "utterances"
   ]
  },
  {
   "cell_type": "code",
   "execution_count": 9,
   "metadata": {},
   "outputs": [
    {
     "output_type": "execute_result",
     "data": {
      "text/plain": [
       "6.243879214686866"
      ]
     },
     "metadata": {},
     "execution_count": 9
    }
   ],
   "source": [
    "utterances[utterances['meta.player_gender'] == 'F']['meta.surprise'].dropna().mean()"
   ]
  },
  {
   "cell_type": "code",
   "execution_count": 10,
   "metadata": {},
   "outputs": [
    {
     "output_type": "execute_result",
     "data": {
      "text/plain": [
       "6.275950256659707"
      ]
     },
     "metadata": {},
     "execution_count": 10
    }
   ],
   "source": [
    "utterances[utterances['meta.player_gender'] == 'M']['meta.surprise'].dropna().mean()"
   ]
  },
  {
   "source": [
    "## Part 2: How surprising is a question compared to all questions posed to male players and all questions posed ot female players?\n",
    "\n",
    "Let's see how surprising questions are compared to questions posed to players of each gender. To do this, we'll want to make our `model_key_selector` return a key based on the player's gender. Recall that we added `'player_gender'` as a metadata field to each question earlier."
   ],
   "cell_type": "markdown",
   "metadata": {}
  },
  {
   "cell_type": "code",
   "execution_count": 11,
   "metadata": {},
   "outputs": [],
   "source": [
    "gender_models_surp = Surprise(model_key_selector=lambda utt: utt.meta['player_gender'], target_sample_size=10, context_sample_size=1000, surprise_attr_name='surprise_gender_model')"
   ]
  },
  {
   "cell_type": "code",
   "execution_count": 12,
   "metadata": {},
   "outputs": [
    {
     "output_type": "execute_result",
     "data": {
      "text/plain": [
       "<convokit.surprise.surprise.Surprise at 0x189bcd89108>"
      ]
     },
     "metadata": {},
     "execution_count": 12
    }
   ],
   "source": [
    "gender_models_surp.fit(corpus, selector=lambda utt: utt.meta['is_question'])"
   ]
  },
  {
   "source": [
    "Since for each question, we want to compute surprise based on both the male interview questions model and the female interview questions model, we will use the `group_and_models` parameter for the `transform` function. Each utterance should belong to it's own group and be compared to both the `'M'` and `'F'` gender models."
   ],
   "cell_type": "markdown",
   "metadata": {}
  },
  {
   "cell_type": "code",
   "execution_count": 13,
   "metadata": {},
   "outputs": [
    {
     "output_type": "execute_result",
     "data": {
      "text/plain": [
       "<convokit.model.corpus.Corpus at 0x189a80ec648>"
      ]
     },
     "metadata": {},
     "execution_count": 13
    }
   ],
   "source": [
    "gender_models_surp.transform(subset_corpus, obj_type='utterance', group_and_models=lambda utt: (utt.id, ['M', 'F']), selector=lambda utt: utt.meta['is_question'])"
   ]
  },
  {
   "cell_type": "code",
   "execution_count": 14,
   "metadata": {},
   "outputs": [
    {
     "output_type": "execute_result",
     "data": {
      "text/plain": [
       "            timestamp                                               text  \\\n",
       "id                                                                         \n",
       "5245_1.q   2013-09-07  Stan said he found you were extremely nervous ...   \n",
       "4341_7.q   2012-08-08  Can you talk about how you were able to not le...   \n",
       "107_3.q    2015-03-17                                               Yes.   \n",
       "6211_3.q   2014-05-25  You obviously have played a lot of SEC team sp...   \n",
       "924_6.q    2007-03-26  You would have been in Mexico, right, Mexico C...   \n",
       "...               ...                                                ...   \n",
       "186_5.q    2015-10-10  Before you came to the China Open, you had to ...   \n",
       "3979_0.q   2012-01-09      What pleased you most about that performance?   \n",
       "2987_10.q  2010-07-01  Was there a point in your career when you real...   \n",
       "4289_1.q   2012-08-23  Can you go over exactly what happened? When di...   \n",
       "3958_0.q   2012-01-13  Exhausting would probably be your overriding f...   \n",
       "\n",
       "            speaker reply_to conversation_id meta.is_answer meta.is_question  \\\n",
       "id                                                                             \n",
       "5245_1.q   REPORTER     None        5245_1.q          False             True   \n",
       "4341_7.q   REPORTER     None        4341_7.q          False             True   \n",
       "107_3.q    REPORTER     None         107_3.q          False             True   \n",
       "6211_3.q   REPORTER     None        6211_3.q          False             True   \n",
       "924_6.q    REPORTER     None         924_6.q          False             True   \n",
       "...             ...      ...             ...            ...              ...   \n",
       "186_5.q    REPORTER     None         186_5.q          False             True   \n",
       "3979_0.q   REPORTER     None        3979_0.q          False             True   \n",
       "2987_10.q  REPORTER     None       2987_10.q          False             True   \n",
       "4289_1.q   REPORTER     None        4289_1.q          False             True   \n",
       "3958_0.q   REPORTER     None        3958_0.q          False             True   \n",
       "\n",
       "          meta.pair_idx meta.player_gender meta.surprise  \\\n",
       "id                                                         \n",
       "5245_1.q         5245_1                  M       6.54898   \n",
       "4341_7.q         4341_7                  F       5.95094   \n",
       "107_3.q           107_3                  F           NaN   \n",
       "6211_3.q         6211_3                  M       6.40259   \n",
       "924_6.q           924_6                  M           NaN   \n",
       "...                 ...                ...           ...   \n",
       "186_5.q           186_5                  F       6.75991   \n",
       "3979_0.q         3979_0                  F           NaN   \n",
       "2987_10.q       2987_10                  F       6.29503   \n",
       "4289_1.q         4289_1                  F       5.82461   \n",
       "3958_0.q         3958_0                  M        6.8817   \n",
       "\n",
       "                                  meta.surprise_gender_model  \n",
       "id                                                            \n",
       "5245_1.q   {'GROUP_5245_1.q__MODEL_M': 7.103776529351631,...  \n",
       "4341_7.q   {'GROUP_4341_7.q__MODEL_M': 6.783209349957584,...  \n",
       "107_3.q    {'GROUP_107_3.q__MODEL_M': nan, 'GROUP_107_3.q...  \n",
       "6211_3.q   {'GROUP_6211_3.q__MODEL_M': 6.678198283998114,...  \n",
       "924_6.q    {'GROUP_924_6.q__MODEL_M': nan, 'GROUP_924_6.q...  \n",
       "...                                                      ...  \n",
       "186_5.q    {'GROUP_186_5.q__MODEL_M': 6.968725597594767, ...  \n",
       "3979_0.q   {'GROUP_3979_0.q__MODEL_M': nan, 'GROUP_3979_0...  \n",
       "2987_10.q  {'GROUP_2987_10.q__MODEL_M': 7.090169721884778...  \n",
       "4289_1.q   {'GROUP_4289_1.q__MODEL_M': 6.631479446868192,...  \n",
       "3958_0.q   {'GROUP_3958_0.q__MODEL_M': 7.120010956068281,...  \n",
       "\n",
       "[500 rows x 11 columns]"
      ],
      "text/html": "<div>\n<style scoped>\n    .dataframe tbody tr th:only-of-type {\n        vertical-align: middle;\n    }\n\n    .dataframe tbody tr th {\n        vertical-align: top;\n    }\n\n    .dataframe thead th {\n        text-align: right;\n    }\n</style>\n<table border=\"1\" class=\"dataframe\">\n  <thead>\n    <tr style=\"text-align: right;\">\n      <th></th>\n      <th>timestamp</th>\n      <th>text</th>\n      <th>speaker</th>\n      <th>reply_to</th>\n      <th>conversation_id</th>\n      <th>meta.is_answer</th>\n      <th>meta.is_question</th>\n      <th>meta.pair_idx</th>\n      <th>meta.player_gender</th>\n      <th>meta.surprise</th>\n      <th>meta.surprise_gender_model</th>\n    </tr>\n    <tr>\n      <th>id</th>\n      <th></th>\n      <th></th>\n      <th></th>\n      <th></th>\n      <th></th>\n      <th></th>\n      <th></th>\n      <th></th>\n      <th></th>\n      <th></th>\n      <th></th>\n    </tr>\n  </thead>\n  <tbody>\n    <tr>\n      <th>5245_1.q</th>\n      <td>2013-09-07</td>\n      <td>Stan said he found you were extremely nervous ...</td>\n      <td>REPORTER</td>\n      <td>None</td>\n      <td>5245_1.q</td>\n      <td>False</td>\n      <td>True</td>\n      <td>5245_1</td>\n      <td>M</td>\n      <td>6.54898</td>\n      <td>{'GROUP_5245_1.q__MODEL_M': 7.103776529351631,...</td>\n    </tr>\n    <tr>\n      <th>4341_7.q</th>\n      <td>2012-08-08</td>\n      <td>Can you talk about how you were able to not le...</td>\n      <td>REPORTER</td>\n      <td>None</td>\n      <td>4341_7.q</td>\n      <td>False</td>\n      <td>True</td>\n      <td>4341_7</td>\n      <td>F</td>\n      <td>5.95094</td>\n      <td>{'GROUP_4341_7.q__MODEL_M': 6.783209349957584,...</td>\n    </tr>\n    <tr>\n      <th>107_3.q</th>\n      <td>2015-03-17</td>\n      <td>Yes.</td>\n      <td>REPORTER</td>\n      <td>None</td>\n      <td>107_3.q</td>\n      <td>False</td>\n      <td>True</td>\n      <td>107_3</td>\n      <td>F</td>\n      <td>NaN</td>\n      <td>{'GROUP_107_3.q__MODEL_M': nan, 'GROUP_107_3.q...</td>\n    </tr>\n    <tr>\n      <th>6211_3.q</th>\n      <td>2014-05-25</td>\n      <td>You obviously have played a lot of SEC team sp...</td>\n      <td>REPORTER</td>\n      <td>None</td>\n      <td>6211_3.q</td>\n      <td>False</td>\n      <td>True</td>\n      <td>6211_3</td>\n      <td>M</td>\n      <td>6.40259</td>\n      <td>{'GROUP_6211_3.q__MODEL_M': 6.678198283998114,...</td>\n    </tr>\n    <tr>\n      <th>924_6.q</th>\n      <td>2007-03-26</td>\n      <td>You would have been in Mexico, right, Mexico C...</td>\n      <td>REPORTER</td>\n      <td>None</td>\n      <td>924_6.q</td>\n      <td>False</td>\n      <td>True</td>\n      <td>924_6</td>\n      <td>M</td>\n      <td>NaN</td>\n      <td>{'GROUP_924_6.q__MODEL_M': nan, 'GROUP_924_6.q...</td>\n    </tr>\n    <tr>\n      <th>...</th>\n      <td>...</td>\n      <td>...</td>\n      <td>...</td>\n      <td>...</td>\n      <td>...</td>\n      <td>...</td>\n      <td>...</td>\n      <td>...</td>\n      <td>...</td>\n      <td>...</td>\n      <td>...</td>\n    </tr>\n    <tr>\n      <th>186_5.q</th>\n      <td>2015-10-10</td>\n      <td>Before you came to the China Open, you had to ...</td>\n      <td>REPORTER</td>\n      <td>None</td>\n      <td>186_5.q</td>\n      <td>False</td>\n      <td>True</td>\n      <td>186_5</td>\n      <td>F</td>\n      <td>6.75991</td>\n      <td>{'GROUP_186_5.q__MODEL_M': 6.968725597594767, ...</td>\n    </tr>\n    <tr>\n      <th>3979_0.q</th>\n      <td>2012-01-09</td>\n      <td>What pleased you most about that performance?</td>\n      <td>REPORTER</td>\n      <td>None</td>\n      <td>3979_0.q</td>\n      <td>False</td>\n      <td>True</td>\n      <td>3979_0</td>\n      <td>F</td>\n      <td>NaN</td>\n      <td>{'GROUP_3979_0.q__MODEL_M': nan, 'GROUP_3979_0...</td>\n    </tr>\n    <tr>\n      <th>2987_10.q</th>\n      <td>2010-07-01</td>\n      <td>Was there a point in your career when you real...</td>\n      <td>REPORTER</td>\n      <td>None</td>\n      <td>2987_10.q</td>\n      <td>False</td>\n      <td>True</td>\n      <td>2987_10</td>\n      <td>F</td>\n      <td>6.29503</td>\n      <td>{'GROUP_2987_10.q__MODEL_M': 7.090169721884778...</td>\n    </tr>\n    <tr>\n      <th>4289_1.q</th>\n      <td>2012-08-23</td>\n      <td>Can you go over exactly what happened? When di...</td>\n      <td>REPORTER</td>\n      <td>None</td>\n      <td>4289_1.q</td>\n      <td>False</td>\n      <td>True</td>\n      <td>4289_1</td>\n      <td>F</td>\n      <td>5.82461</td>\n      <td>{'GROUP_4289_1.q__MODEL_M': 6.631479446868192,...</td>\n    </tr>\n    <tr>\n      <th>3958_0.q</th>\n      <td>2012-01-13</td>\n      <td>Exhausting would probably be your overriding f...</td>\n      <td>REPORTER</td>\n      <td>None</td>\n      <td>3958_0.q</td>\n      <td>False</td>\n      <td>True</td>\n      <td>3958_0</td>\n      <td>M</td>\n      <td>6.8817</td>\n      <td>{'GROUP_3958_0.q__MODEL_M': 7.120010956068281,...</td>\n    </tr>\n  </tbody>\n</table>\n<p>500 rows × 11 columns</p>\n</div>"
     },
     "metadata": {},
     "execution_count": 14
    }
   ],
   "source": [
    "utterances = subset_corpus.get_utterances_dataframe(selector=lambda utt: utt.meta['is_question'])\n",
    "utterances"
   ]
  },
  {
   "cell_type": "code",
   "execution_count": 15,
   "metadata": {},
   "outputs": [
    {
     "output_type": "execute_result",
     "data": {
      "text/plain": [
       "array([{'GROUP_4341_7.q__MODEL_M': 6.783209349957584, 'GROUP_4341_7.q__MODEL_F': 6.845298787847863},\n",
       "       {'GROUP_107_3.q__MODEL_M': nan, 'GROUP_107_3.q__MODEL_F': nan},\n",
       "       {'GROUP_3052_4.q__MODEL_M': nan, 'GROUP_3052_4.q__MODEL_F': nan},\n",
       "       {'GROUP_521_14.q__MODEL_M': 6.659929098638321, 'GROUP_521_14.q__MODEL_F': 6.550808970181529},\n",
       "       {'GROUP_2224_1.q__MODEL_M': 6.7815066487137505, 'GROUP_2224_1.q__MODEL_F': 6.829032042880556},\n",
       "       {'GROUP_5852_2.q__MODEL_M': 6.694288506666312, 'GROUP_5852_2.q__MODEL_F': 6.767889002922368},\n",
       "       {'GROUP_3743_0.q__MODEL_M': 6.889600003115634, 'GROUP_3743_0.q__MODEL_F': 6.82613640612194},\n",
       "       {'GROUP_5975_2.q__MODEL_M': 6.8160504781214675, 'GROUP_5975_2.q__MODEL_F': 6.732984651078998},\n",
       "       {'GROUP_2820_5.q__MODEL_M': 6.749485526356883, 'GROUP_2820_5.q__MODEL_F': 6.641774645055219},\n",
       "       {'GROUP_1863_15.q__MODEL_M': 7.023676916052487, 'GROUP_1863_15.q__MODEL_F': 6.889031503704184}],\n",
       "      dtype=object)"
      ]
     },
     "metadata": {},
     "execution_count": 15
    }
   ],
   "source": [
    "utterances[utterances['meta.player_gender'] == 'F']['meta.surprise_gender_model'].values[:10]"
   ]
  },
  {
   "cell_type": "code",
   "execution_count": 16,
   "metadata": {},
   "outputs": [
    {
     "output_type": "execute_result",
     "data": {
      "text/plain": [
       "array([{'GROUP_5245_1.q__MODEL_M': 7.103776529351631, 'GROUP_5245_1.q__MODEL_F': 6.900926940711671},\n",
       "       {'GROUP_6211_3.q__MODEL_M': 6.678198283998114, 'GROUP_6211_3.q__MODEL_F': 6.931403827505043},\n",
       "       {'GROUP_924_6.q__MODEL_M': nan, 'GROUP_924_6.q__MODEL_F': nan},\n",
       "       {'GROUP_3890_10.q__MODEL_M': 6.799334299891807, 'GROUP_3890_10.q__MODEL_F': 6.763646052451127},\n",
       "       {'GROUP_1860_4.q__MODEL_M': 6.84138969161925, 'GROUP_1860_4.q__MODEL_F': 6.724015665111105},\n",
       "       {'GROUP_1371_3.q__MODEL_M': 6.9518876126735165, 'GROUP_1371_3.q__MODEL_F': 7.083357797245587},\n",
       "       {'GROUP_472_2.q__MODEL_M': 6.893839769831588, 'GROUP_472_2.q__MODEL_F': 6.750585792412042},\n",
       "       {'GROUP_5608_7.q__MODEL_M': 6.800128219871717, 'GROUP_5608_7.q__MODEL_F': 6.7548165776156415},\n",
       "       {'GROUP_4841_3.q__MODEL_M': 7.007302827107132, 'GROUP_4841_3.q__MODEL_F': 6.388921585232761},\n",
       "       {'GROUP_1202_20.q__MODEL_M': nan, 'GROUP_1202_20.q__MODEL_F': nan}],\n",
       "      dtype=object)"
      ]
     },
     "metadata": {},
     "execution_count": 16
    }
   ],
   "source": [
    "utterances[utterances['meta.player_gender'] == 'M']['meta.surprise_gender_model'].values[:10]"
   ]
  },
  {
   "cell_type": "code",
   "execution_count": null,
   "metadata": {},
   "outputs": [],
   "source": []
  }
 ]
}